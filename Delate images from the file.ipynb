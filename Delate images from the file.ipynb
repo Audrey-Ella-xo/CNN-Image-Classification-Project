{
 "cells": [
  {
   "cell_type": "code",
   "execution_count": 10,
   "id": "9c2d5dbd-d78c-4961-94e1-7c67155a4269",
   "metadata": {},
   "outputs": [
    {
     "name": "stdout",
     "output_type": "stream",
     "text": [
      "Removed 0 invalid images in Pumpkines.\n",
      "Removed 0 invalid images in Strawberryies.\n",
      "Removed 0 invalid images in Potatoes.\n",
      "\n",
      "Folders with fewer than the target number of valid images and how many are missing:\n",
      "- Pumpkines: 1000 images are missing.\n",
      "- Strawberryies: 1000 images are missing.\n",
      "- Potatoes: 1000 images are missing.\n"
     ]
    }
   ],
   "source": [
    "import os\n",
    "import random\n",
    "\n",
    "# The following code removes images with undesired formats for the model.\n",
    "# However, running this code does not guarantee their deletion immediately;\n",
    "# it may need to be executed multiple times.\n",
    "\n",
    "# Change the path accordingly to where your image folders are stored.\n",
    "# dataset_path = \"/Users/hugoa/Documents/NCI/Semester 2/Deep Learning and Generative AI/Project CA/Reduced\"\n",
    "# dataset_path = '/Users/Audrey_xo/Documents/School/Semester 2/Deep Learning and Gen AI/Group Project/New Images Dataset'\n",
    "dataset_path = '/Users/Audrey_xo/Library/CloudStorage/GoogleDrive-anitaudrey@gmail.com/.shortcut-targets-by-id/1uZ3cbI9IgIvVi6ppt9wv_Ntlu9zlcVha/Colab Notebooks/Images DLGA'\n",
    "image_extensions = [\"jpeg\", \"jpg\", \"png\", \"bmp\", \"gif\"] \n",
    "\n",
    "target_image_count = 1000  # The number of images each folder should contain.\n",
    "                           # This ensures that each folder has the same number of images per class.\n",
    "\n",
    "missing_folders = []\n",
    "\n",
    "for class_folder in os.listdir(dataset_path):\n",
    "    class_path = os.path.join(dataset_path, class_folder)\n",
    "\n",
    "    if not os.path.isdir(class_path):\n",
    "        continue\n",
    "\n",
    "    images = os.listdir(class_path)\n",
    "    \n",
    "    images_to_remove = [img for img in images if img.split('.')[-1].lower() not in image_extensions]\n",
    "    \n",
    "    for img in images_to_remove:\n",
    "        os.remove(os.path.join(class_path, img))\n",
    "    print(f\"Removed {len(images_to_remove)} invalid images in {class_folder}.\")\n",
    "\n",
    "    valid_images = [img for img in images if img.split('.')[-1].lower() in image_extensions]\n",
    "    num_images = len(valid_images)\n",
    "\n",
    "    if num_images > target_image_count:\n",
    "        print(\"valid images exceeded\")\n",
    "        # images_to_remove = random.sample(valid_images, num_images - target_image_count)\n",
    "        # for img in images_to_remove:\n",
    "        #     os.remove(os.path.join(class_path, img))\n",
    "        # print(f\"Removed {num_images - target_image_count} valid images in {class_folder}, now has {target_image_count} images.\")\n",
    "        \n",
    "    elif num_images < target_image_count:\n",
    "        missing_folders.append((class_folder, target_image_count - num_images))\n",
    "\n",
    "if missing_folders:\n",
    "    print('\\nFolders with fewer than the target number of valid images and how many are missing:')\n",
    "    for folder, missing in missing_folders:\n",
    "        print(f\"- {folder}: {missing} images are missing.\")\n",
    "# In this final step, we ensure that the folder no longer contains images with undesired extensions.\n",
    "# Run multiple times to fully ensure this.\n",
    "else:\n",
    "    print(\"\\nAll folders have the target number of valid images.\")"
   ]
  },
  {
   "cell_type": "code",
   "execution_count": 11,
   "id": "89f9749c-4d1b-4960-885c-54703a81a43e",
   "metadata": {},
   "outputs": [],
   "source": [
    "# Before running this code, ensure that the folder contains only representative images for each class.\n",
    "# The way we download images may bring in images that do not belong to the class.\n",
    "\n",
    "# These images must be manually removed, which is a tedious and frustrating step.\n",
    "def rename_images_in_subfolders(root_folder):\n",
    "    if not os.path.isdir(root_folder):\n",
    "        print(\"The specified path is not a valid folder.\")\n",
    "        return\n",
    "    \n",
    "    image_extensions = (\"jpeg\", \"jpg\", \"png\", \"bmp\", \"gif\")\n",
    "    \n",
    "    for subdir, _, files in os.walk(root_folder):\n",
    "        folder_name = os.path.basename(subdir)\n",
    "        images = [f for f in files if f.lower().endswith(image_extensions)]\n",
    "        images.sort()\n",
    "        \n",
    "        for index, image in enumerate(images, start=1):\n",
    "            ext = os.path.splitext(image)[1]  # Get the file extension\n",
    "            new_name = f\"{folder_name}_{index}{ext}\"\n",
    "            old_path = os.path.join(subdir, image)\n",
    "            new_path = os.path.join(subdir, new_name)\n",
    "            \n",
    "            os.rename(old_path, new_path)\n",
    "            print(f\"Renamed in {folder_name}: {image} -> {new_name}\")\n",
    "\n",
    "# The folder structure should follow a general folder containing subfolders named after each class.\n",
    "# root_folder = \"//Users/hugoa/Documents/NCI/Semester 2/Deep Learning and Generative AI/Project CA/Images CA\" # Change the path accordingly\n",
    "# root_folder = '/Users/Audrey_xo/Documents/School/Semester 2/Deep Learning and Gen AI/Group Project/New Images Dataset'\n",
    "root_folder = '/Users/Audrey_xo/Library/CloudStorage/GoogleDrive-anitaudrey@gmail.com/.shortcut-targets-by-id/1uZ3cbI9IgIvVi6ppt9wv_Ntlu9zlcVha/Colab Notebooks/Images DLGA'\n",
    "rename_images_in_subfolders(root_folder)\n"
   ]
  },
  {
   "cell_type": "code",
   "execution_count": null,
   "id": "e1f35c2b-a83f-4643-96c9-712ec34e8d35",
   "metadata": {},
   "outputs": [],
   "source": []
  }
 ],
 "metadata": {
  "kernelspec": {
   "display_name": "base",
   "language": "python",
   "name": "python3"
  },
  "language_info": {
   "codemirror_mode": {
    "name": "ipython",
    "version": 3
   },
   "file_extension": ".py",
   "mimetype": "text/x-python",
   "name": "python",
   "nbconvert_exporter": "python",
   "pygments_lexer": "ipython3",
   "version": "3.12.4"
  }
 },
 "nbformat": 4,
 "nbformat_minor": 5
}
